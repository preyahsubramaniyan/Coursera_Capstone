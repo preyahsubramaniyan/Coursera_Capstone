{
 "cells": [
  {
   "cell_type": "markdown",
   "metadata": {
    "collapsed": true
   },
   "source": [
    "## Clustering Analysis Project"
   ]
  },
  {
   "cell_type": "markdown",
   "metadata": {},
   "source": [
    "## Part-1 ##"
   ]
  },
  {
   "cell_type": "markdown",
   "metadata": {},
   "source": [
    "**Firstly, installing required libraries**"
   ]
  },
  {
   "cell_type": "code",
   "execution_count": 1,
   "metadata": {
    "scrolled": true
   },
   "outputs": [
    {
     "name": "stdout",
     "output_type": "stream",
     "text": [
      "Waiting for a Spark session to start...\n",
      "Spark Initialization Done! ApplicationId = app-20201028060147-0000\n",
      "KERNEL_ID = d73d92f9-a837-4bf8-adc0-fd14403de788\n"
     ]
    }
   ],
   "source": [
    "from bs4 import BeautifulSoup\n",
    "import requests\n",
    "import pandas as pd"
   ]
  },
  {
   "cell_type": "markdown",
   "metadata": {},
   "source": [
    "**Secondly, scrape data set from Wikipedia website**"
   ]
  },
  {
   "cell_type": "code",
   "execution_count": 2,
   "metadata": {
    "scrolled": true
   },
   "outputs": [
    {
     "data": {
      "text/html": [
       "<div>\n",
       "<style scoped>\n",
       "    .dataframe tbody tr th:only-of-type {\n",
       "        vertical-align: middle;\n",
       "    }\n",
       "\n",
       "    .dataframe tbody tr th {\n",
       "        vertical-align: top;\n",
       "    }\n",
       "\n",
       "    .dataframe thead th {\n",
       "        text-align: right;\n",
       "    }\n",
       "</style>\n",
       "<table border=\"1\" class=\"dataframe\">\n",
       "  <thead>\n",
       "    <tr style=\"text-align: right;\">\n",
       "      <th></th>\n",
       "      <th>Postal Code</th>\n",
       "      <th>Borough</th>\n",
       "      <th>Neighbourhood</th>\n",
       "    </tr>\n",
       "  </thead>\n",
       "  <tbody>\n",
       "    <tr>\n",
       "      <th>0</th>\n",
       "      <td>M1A</td>\n",
       "      <td>Not assigned</td>\n",
       "      <td>Not assigned</td>\n",
       "    </tr>\n",
       "    <tr>\n",
       "      <th>1</th>\n",
       "      <td>M2A</td>\n",
       "      <td>Not assigned</td>\n",
       "      <td>Not assigned</td>\n",
       "    </tr>\n",
       "    <tr>\n",
       "      <th>2</th>\n",
       "      <td>M3A</td>\n",
       "      <td>North York</td>\n",
       "      <td>Parkwoods</td>\n",
       "    </tr>\n",
       "    <tr>\n",
       "      <th>3</th>\n",
       "      <td>M4A</td>\n",
       "      <td>North York</td>\n",
       "      <td>Victoria Village</td>\n",
       "    </tr>\n",
       "    <tr>\n",
       "      <th>4</th>\n",
       "      <td>M5A</td>\n",
       "      <td>Downtown Toronto</td>\n",
       "      <td>Regent Park, Harbourfront</td>\n",
       "    </tr>\n",
       "  </tbody>\n",
       "</table>\n",
       "</div>"
      ],
      "text/plain": [
       "  Postal Code           Borough              Neighbourhood\n",
       "0         M1A      Not assigned               Not assigned\n",
       "1         M2A      Not assigned               Not assigned\n",
       "2         M3A        North York                  Parkwoods\n",
       "3         M4A        North York           Victoria Village\n",
       "4         M5A  Downtown Toronto  Regent Park, Harbourfront"
      ]
     },
     "execution_count": 2,
     "metadata": {},
     "output_type": "execute_result"
    }
   ],
   "source": [
    "# read the webpage from the wiki\n",
    "url='https://en.wikipedia.org/wiki/List_of_postal_codes_of_Canada:_M'\n",
    "response = requests.get(url)\n",
    "#Process and convert html data\n",
    "data = response.text\n",
    "soup = BeautifulSoup(data,'html.parser')\n",
    "wiki_table=soup.find('table')\n",
    "#develop dataframe\n",
    "df = pd.read_html(str(wiki_table))[0]\n",
    "df.head()"
   ]
  },
  {
   "cell_type": "markdown",
   "metadata": {},
   "source": [
    "**Thirdly, prepare the dataframe in pursuant of instructions**"
   ]
  },
  {
   "cell_type": "code",
   "execution_count": 3,
   "metadata": {
    "scrolled": true
   },
   "outputs": [
    {
     "data": {
      "text/html": [
       "<div>\n",
       "<style scoped>\n",
       "    .dataframe tbody tr th:only-of-type {\n",
       "        vertical-align: middle;\n",
       "    }\n",
       "\n",
       "    .dataframe tbody tr th {\n",
       "        vertical-align: top;\n",
       "    }\n",
       "\n",
       "    .dataframe thead th {\n",
       "        text-align: right;\n",
       "    }\n",
       "</style>\n",
       "<table border=\"1\" class=\"dataframe\">\n",
       "  <thead>\n",
       "    <tr style=\"text-align: right;\">\n",
       "      <th></th>\n",
       "      <th>PostalCode</th>\n",
       "      <th>Borough</th>\n",
       "      <th>Neighborhood</th>\n",
       "    </tr>\n",
       "  </thead>\n",
       "  <tbody>\n",
       "    <tr>\n",
       "      <th>1</th>\n",
       "      <td>M2A</td>\n",
       "      <td>Not assigned</td>\n",
       "      <td>Not assigned</td>\n",
       "    </tr>\n",
       "    <tr>\n",
       "      <th>2</th>\n",
       "      <td>M3A</td>\n",
       "      <td>North York</td>\n",
       "      <td>Parkwoods</td>\n",
       "    </tr>\n",
       "    <tr>\n",
       "      <th>3</th>\n",
       "      <td>M4A</td>\n",
       "      <td>North York</td>\n",
       "      <td>Victoria Village</td>\n",
       "    </tr>\n",
       "    <tr>\n",
       "      <th>4</th>\n",
       "      <td>M5A</td>\n",
       "      <td>Downtown Toronto</td>\n",
       "      <td>Regent Park, Harbourfront</td>\n",
       "    </tr>\n",
       "    <tr>\n",
       "      <th>5</th>\n",
       "      <td>M6A</td>\n",
       "      <td>North York</td>\n",
       "      <td>Lawrence Manor, Lawrence Heights</td>\n",
       "    </tr>\n",
       "  </tbody>\n",
       "</table>\n",
       "</div>"
      ],
      "text/plain": [
       "  PostalCode           Borough                      Neighborhood\n",
       "1        M2A      Not assigned                      Not assigned\n",
       "2        M3A        North York                         Parkwoods\n",
       "3        M4A        North York                  Victoria Village\n",
       "4        M5A  Downtown Toronto         Regent Park, Harbourfront\n",
       "5        M6A        North York  Lawrence Manor, Lawrence Heights"
      ]
     },
     "execution_count": 3,
     "metadata": {},
     "output_type": "execute_result"
    }
   ],
   "source": [
    "# Drop the first column\n",
    "df.drop(0,inplace=True)\n",
    "#Rename the columns names\n",
    "df.columns = ['PostalCode','Borough','Neighborhood']\n",
    "df.head()"
   ]
  },
  {
   "cell_type": "markdown",
   "metadata": {},
   "source": [
    "**Cleaning data as ignoring the rows which the \"Borough\" contains 'Not assigned'**"
   ]
  },
  {
   "cell_type": "code",
   "execution_count": 5,
   "metadata": {
    "scrolled": true
   },
   "outputs": [
    {
     "data": {
      "text/html": [
       "<div>\n",
       "<style scoped>\n",
       "    .dataframe tbody tr th:only-of-type {\n",
       "        vertical-align: middle;\n",
       "    }\n",
       "\n",
       "    .dataframe tbody tr th {\n",
       "        vertical-align: top;\n",
       "    }\n",
       "\n",
       "    .dataframe thead th {\n",
       "        text-align: right;\n",
       "    }\n",
       "</style>\n",
       "<table border=\"1\" class=\"dataframe\">\n",
       "  <thead>\n",
       "    <tr style=\"text-align: right;\">\n",
       "      <th></th>\n",
       "      <th>index</th>\n",
       "      <th>PostalCode</th>\n",
       "      <th>Borough</th>\n",
       "      <th>Neighborhood</th>\n",
       "    </tr>\n",
       "  </thead>\n",
       "  <tbody>\n",
       "    <tr>\n",
       "      <th>0</th>\n",
       "      <td>2</td>\n",
       "      <td>M3A</td>\n",
       "      <td>North York</td>\n",
       "      <td>Parkwoods</td>\n",
       "    </tr>\n",
       "    <tr>\n",
       "      <th>1</th>\n",
       "      <td>3</td>\n",
       "      <td>M4A</td>\n",
       "      <td>North York</td>\n",
       "      <td>Victoria Village</td>\n",
       "    </tr>\n",
       "    <tr>\n",
       "      <th>2</th>\n",
       "      <td>4</td>\n",
       "      <td>M5A</td>\n",
       "      <td>Downtown Toronto</td>\n",
       "      <td>Regent Park, Harbourfront</td>\n",
       "    </tr>\n",
       "    <tr>\n",
       "      <th>3</th>\n",
       "      <td>5</td>\n",
       "      <td>M6A</td>\n",
       "      <td>North York</td>\n",
       "      <td>Lawrence Manor, Lawrence Heights</td>\n",
       "    </tr>\n",
       "    <tr>\n",
       "      <th>4</th>\n",
       "      <td>6</td>\n",
       "      <td>M7A</td>\n",
       "      <td>Downtown Toronto</td>\n",
       "      <td>Queen's Park, Ontario Provincial Government</td>\n",
       "    </tr>\n",
       "  </tbody>\n",
       "</table>\n",
       "</div>"
      ],
      "text/plain": [
       "   index PostalCode           Borough  \\\n",
       "0      2        M3A        North York   \n",
       "1      3        M4A        North York   \n",
       "2      4        M5A  Downtown Toronto   \n",
       "3      5        M6A        North York   \n",
       "4      6        M7A  Downtown Toronto   \n",
       "\n",
       "                                  Neighborhood  \n",
       "0                                    Parkwoods  \n",
       "1                             Victoria Village  \n",
       "2                    Regent Park, Harbourfront  \n",
       "3             Lawrence Manor, Lawrence Heights  \n",
       "4  Queen's Park, Ontario Provincial Government  "
      ]
     },
     "execution_count": 5,
     "metadata": {},
     "output_type": "execute_result"
    }
   ],
   "source": [
    "#Remove \"Borough\" with 'Not assigned' values\n",
    "df2=df[df['Borough'].str.contains(\"Not assigned\") == False].reset_index()\n",
    "df2.head()\n"
   ]
  },
  {
   "cell_type": "markdown",
   "metadata": {},
   "source": [
    "**Combine the rows into one row (and seperate with comma) which PostalCode and Borough as same value**"
   ]
  },
  {
   "cell_type": "code",
   "execution_count": 6,
   "metadata": {
    "scrolled": true
   },
   "outputs": [
    {
     "data": {
      "text/html": [
       "<div>\n",
       "<style scoped>\n",
       "    .dataframe tbody tr th:only-of-type {\n",
       "        vertical-align: middle;\n",
       "    }\n",
       "\n",
       "    .dataframe tbody tr th {\n",
       "        vertical-align: top;\n",
       "    }\n",
       "\n",
       "    .dataframe thead th {\n",
       "        text-align: right;\n",
       "    }\n",
       "</style>\n",
       "<table border=\"1\" class=\"dataframe\">\n",
       "  <thead>\n",
       "    <tr style=\"text-align: right;\">\n",
       "      <th></th>\n",
       "      <th>PostalCode</th>\n",
       "      <th>Borough</th>\n",
       "      <th>Neighborhood</th>\n",
       "    </tr>\n",
       "  </thead>\n",
       "  <tbody>\n",
       "    <tr>\n",
       "      <th>0</th>\n",
       "      <td>M1B</td>\n",
       "      <td>Scarborough</td>\n",
       "      <td>Malvern, Rouge</td>\n",
       "    </tr>\n",
       "    <tr>\n",
       "      <th>1</th>\n",
       "      <td>M1C</td>\n",
       "      <td>Scarborough</td>\n",
       "      <td>Rouge Hill, Port Union, Highland Creek</td>\n",
       "    </tr>\n",
       "    <tr>\n",
       "      <th>2</th>\n",
       "      <td>M1E</td>\n",
       "      <td>Scarborough</td>\n",
       "      <td>Guildwood, Morningside, West Hill</td>\n",
       "    </tr>\n",
       "    <tr>\n",
       "      <th>3</th>\n",
       "      <td>M1G</td>\n",
       "      <td>Scarborough</td>\n",
       "      <td>Woburn</td>\n",
       "    </tr>\n",
       "    <tr>\n",
       "      <th>4</th>\n",
       "      <td>M1H</td>\n",
       "      <td>Scarborough</td>\n",
       "      <td>Cedarbrae</td>\n",
       "    </tr>\n",
       "  </tbody>\n",
       "</table>\n",
       "</div>"
      ],
      "text/plain": [
       "  PostalCode      Borough                            Neighborhood\n",
       "0        M1B  Scarborough                          Malvern, Rouge\n",
       "1        M1C  Scarborough  Rouge Hill, Port Union, Highland Creek\n",
       "2        M1E  Scarborough       Guildwood, Morningside, West Hill\n",
       "3        M1G  Scarborough                                  Woburn\n",
       "4        M1H  Scarborough                               Cedarbrae"
      ]
     },
     "execution_count": 6,
     "metadata": {},
     "output_type": "execute_result"
    }
   ],
   "source": [
    "df3= df2.groupby(['PostalCode', 'Borough'])['Neighborhood'].apply(', '.join).reset_index()\n",
    "df3.head()"
   ]
  },
  {
   "cell_type": "markdown",
   "metadata": {},
   "source": [
    "**Get the number of rows of dataframe**"
   ]
  },
  {
   "cell_type": "code",
   "execution_count": 7,
   "metadata": {},
   "outputs": [
    {
     "data": {
      "text/plain": [
       "(103, 3)"
      ]
     },
     "execution_count": 7,
     "metadata": {},
     "output_type": "execute_result"
    }
   ],
   "source": [
    "df3.shape"
   ]
  },
  {
   "cell_type": "code",
   "execution_count": 8,
   "metadata": {
    "scrolled": true
   },
   "outputs": [
    {
     "name": "stdout",
     "output_type": "stream",
     "text": [
      "Successfully Saved!\n"
     ]
    }
   ],
   "source": [
    "#Save data as'Capstone_part1.csv'\n",
    "df3.to_csv('Capstone_part1.csv')\n",
    "print('Successfully Saved!')"
   ]
  },
  {
   "cell_type": "markdown",
   "metadata": {},
   "source": [
    "## Part - 2 ##"
   ]
  },
  {
   "cell_type": "markdown",
   "metadata": {},
   "source": [
    "**Firstly, installing required libraries**"
   ]
  },
  {
   "cell_type": "code",
   "execution_count": 9,
   "metadata": {},
   "outputs": [],
   "source": [
    "import pandas as pd"
   ]
  },
  {
   "cell_type": "markdown",
   "metadata": {},
   "source": [
    "**Secondly, get the geospatial Coordinates Data from https://cocl.us/Geospatial_data**"
   ]
  },
  {
   "cell_type": "code",
   "execution_count": 10,
   "metadata": {
    "scrolled": true
   },
   "outputs": [
    {
     "data": {
      "text/html": [
       "<div>\n",
       "<style scoped>\n",
       "    .dataframe tbody tr th:only-of-type {\n",
       "        vertical-align: middle;\n",
       "    }\n",
       "\n",
       "    .dataframe tbody tr th {\n",
       "        vertical-align: top;\n",
       "    }\n",
       "\n",
       "    .dataframe thead th {\n",
       "        text-align: right;\n",
       "    }\n",
       "</style>\n",
       "<table border=\"1\" class=\"dataframe\">\n",
       "  <thead>\n",
       "    <tr style=\"text-align: right;\">\n",
       "      <th></th>\n",
       "      <th>Postal Code</th>\n",
       "      <th>Latitude</th>\n",
       "      <th>Longitude</th>\n",
       "    </tr>\n",
       "  </thead>\n",
       "  <tbody>\n",
       "    <tr>\n",
       "      <th>0</th>\n",
       "      <td>M1B</td>\n",
       "      <td>43.806686</td>\n",
       "      <td>-79.194353</td>\n",
       "    </tr>\n",
       "    <tr>\n",
       "      <th>1</th>\n",
       "      <td>M1C</td>\n",
       "      <td>43.784535</td>\n",
       "      <td>-79.160497</td>\n",
       "    </tr>\n",
       "    <tr>\n",
       "      <th>2</th>\n",
       "      <td>M1E</td>\n",
       "      <td>43.763573</td>\n",
       "      <td>-79.188711</td>\n",
       "    </tr>\n",
       "    <tr>\n",
       "      <th>3</th>\n",
       "      <td>M1G</td>\n",
       "      <td>43.770992</td>\n",
       "      <td>-79.216917</td>\n",
       "    </tr>\n",
       "    <tr>\n",
       "      <th>4</th>\n",
       "      <td>M1H</td>\n",
       "      <td>43.773136</td>\n",
       "      <td>-79.239476</td>\n",
       "    </tr>\n",
       "  </tbody>\n",
       "</table>\n",
       "</div>"
      ],
      "text/plain": [
       "  Postal Code   Latitude  Longitude\n",
       "0         M1B  43.806686 -79.194353\n",
       "1         M1C  43.784535 -79.160497\n",
       "2         M1E  43.763573 -79.188711\n",
       "3         M1G  43.770992 -79.216917\n",
       "4         M1H  43.773136 -79.239476"
      ]
     },
     "execution_count": 10,
     "metadata": {},
     "output_type": "execute_result"
    }
   ],
   "source": [
    "# get the data and create the dataframe\n",
    "url='https://cocl.us/Geospatial_data/Geospatial_Coordinates.csv'\n",
    "df_geo=pd.read_csv(url)\n",
    "df_geo.head()"
   ]
  },
  {
   "cell_type": "markdown",
   "metadata": {},
   "source": [
    "**Adjust the column name same as the first dataset**"
   ]
  },
  {
   "cell_type": "code",
   "execution_count": 11,
   "metadata": {},
   "outputs": [
    {
     "data": {
      "text/html": [
       "<div>\n",
       "<style scoped>\n",
       "    .dataframe tbody tr th:only-of-type {\n",
       "        vertical-align: middle;\n",
       "    }\n",
       "\n",
       "    .dataframe tbody tr th {\n",
       "        vertical-align: top;\n",
       "    }\n",
       "\n",
       "    .dataframe thead th {\n",
       "        text-align: right;\n",
       "    }\n",
       "</style>\n",
       "<table border=\"1\" class=\"dataframe\">\n",
       "  <thead>\n",
       "    <tr style=\"text-align: right;\">\n",
       "      <th></th>\n",
       "      <th>PostalCode</th>\n",
       "      <th>Latitude</th>\n",
       "      <th>Longitude</th>\n",
       "    </tr>\n",
       "  </thead>\n",
       "  <tbody>\n",
       "    <tr>\n",
       "      <th>0</th>\n",
       "      <td>M1B</td>\n",
       "      <td>43.806686</td>\n",
       "      <td>-79.194353</td>\n",
       "    </tr>\n",
       "    <tr>\n",
       "      <th>1</th>\n",
       "      <td>M1C</td>\n",
       "      <td>43.784535</td>\n",
       "      <td>-79.160497</td>\n",
       "    </tr>\n",
       "    <tr>\n",
       "      <th>2</th>\n",
       "      <td>M1E</td>\n",
       "      <td>43.763573</td>\n",
       "      <td>-79.188711</td>\n",
       "    </tr>\n",
       "    <tr>\n",
       "      <th>3</th>\n",
       "      <td>M1G</td>\n",
       "      <td>43.770992</td>\n",
       "      <td>-79.216917</td>\n",
       "    </tr>\n",
       "    <tr>\n",
       "      <th>4</th>\n",
       "      <td>M1H</td>\n",
       "      <td>43.773136</td>\n",
       "      <td>-79.239476</td>\n",
       "    </tr>\n",
       "  </tbody>\n",
       "</table>\n",
       "</div>"
      ],
      "text/plain": [
       "  PostalCode   Latitude  Longitude\n",
       "0        M1B  43.806686 -79.194353\n",
       "1        M1C  43.784535 -79.160497\n",
       "2        M1E  43.763573 -79.188711\n",
       "3        M1G  43.770992 -79.216917\n",
       "4        M1H  43.773136 -79.239476"
      ]
     },
     "execution_count": 11,
     "metadata": {},
     "output_type": "execute_result"
    }
   ],
   "source": [
    "df_geo = df_geo.rename(columns = {'Postal Code':'PostalCode'}) \n",
    "df_geo.head()"
   ]
  },
  {
   "cell_type": "code",
   "execution_count": 12,
   "metadata": {
    "scrolled": true
   },
   "outputs": [
    {
     "data": {
      "text/html": [
       "<div>\n",
       "<style scoped>\n",
       "    .dataframe tbody tr th:only-of-type {\n",
       "        vertical-align: middle;\n",
       "    }\n",
       "\n",
       "    .dataframe tbody tr th {\n",
       "        vertical-align: top;\n",
       "    }\n",
       "\n",
       "    .dataframe thead th {\n",
       "        text-align: right;\n",
       "    }\n",
       "</style>\n",
       "<table border=\"1\" class=\"dataframe\">\n",
       "  <thead>\n",
       "    <tr style=\"text-align: right;\">\n",
       "      <th></th>\n",
       "      <th>Unnamed: 0</th>\n",
       "      <th>PostalCode</th>\n",
       "      <th>Borough</th>\n",
       "      <th>Neighborhood</th>\n",
       "    </tr>\n",
       "  </thead>\n",
       "  <tbody>\n",
       "    <tr>\n",
       "      <th>0</th>\n",
       "      <td>0</td>\n",
       "      <td>M1B</td>\n",
       "      <td>Scarborough</td>\n",
       "      <td>Malvern, Rouge</td>\n",
       "    </tr>\n",
       "    <tr>\n",
       "      <th>1</th>\n",
       "      <td>1</td>\n",
       "      <td>M1C</td>\n",
       "      <td>Scarborough</td>\n",
       "      <td>Rouge Hill, Port Union, Highland Creek</td>\n",
       "    </tr>\n",
       "    <tr>\n",
       "      <th>2</th>\n",
       "      <td>2</td>\n",
       "      <td>M1E</td>\n",
       "      <td>Scarborough</td>\n",
       "      <td>Guildwood, Morningside, West Hill</td>\n",
       "    </tr>\n",
       "    <tr>\n",
       "      <th>3</th>\n",
       "      <td>3</td>\n",
       "      <td>M1G</td>\n",
       "      <td>Scarborough</td>\n",
       "      <td>Woburn</td>\n",
       "    </tr>\n",
       "    <tr>\n",
       "      <th>4</th>\n",
       "      <td>4</td>\n",
       "      <td>M1H</td>\n",
       "      <td>Scarborough</td>\n",
       "      <td>Cedarbrae</td>\n",
       "    </tr>\n",
       "  </tbody>\n",
       "</table>\n",
       "</div>"
      ],
      "text/plain": [
       "   Unnamed: 0 PostalCode      Borough                            Neighborhood\n",
       "0           0        M1B  Scarborough                          Malvern, Rouge\n",
       "1           1        M1C  Scarborough  Rouge Hill, Port Union, Highland Creek\n",
       "2           2        M1E  Scarborough       Guildwood, Morningside, West Hill\n",
       "3           3        M1G  Scarborough                                  Woburn\n",
       "4           4        M1H  Scarborough                               Cedarbrae"
      ]
     },
     "execution_count": 12,
     "metadata": {},
     "output_type": "execute_result"
    }
   ],
   "source": [
    "#We upload the first dataset where we save it as csv file in part 1\n",
    "df3=pd.read_csv('Capstone_part1.csv')\n",
    "df3.head()"
   ]
  },
  {
   "cell_type": "markdown",
   "metadata": {},
   "source": [
    "**Merge two dataframes based on the 'PostalCode' column**"
   ]
  },
  {
   "cell_type": "code",
   "execution_count": 13,
   "metadata": {},
   "outputs": [
    {
     "data": {
      "text/html": [
       "<div>\n",
       "<style scoped>\n",
       "    .dataframe tbody tr th:only-of-type {\n",
       "        vertical-align: middle;\n",
       "    }\n",
       "\n",
       "    .dataframe tbody tr th {\n",
       "        vertical-align: top;\n",
       "    }\n",
       "\n",
       "    .dataframe thead th {\n",
       "        text-align: right;\n",
       "    }\n",
       "</style>\n",
       "<table border=\"1\" class=\"dataframe\">\n",
       "  <thead>\n",
       "    <tr style=\"text-align: right;\">\n",
       "      <th></th>\n",
       "      <th>Unnamed: 0</th>\n",
       "      <th>PostalCode</th>\n",
       "      <th>Borough</th>\n",
       "      <th>Neighborhood</th>\n",
       "      <th>Latitude</th>\n",
       "      <th>Longitude</th>\n",
       "    </tr>\n",
       "  </thead>\n",
       "  <tbody>\n",
       "    <tr>\n",
       "      <th>0</th>\n",
       "      <td>0</td>\n",
       "      <td>M1B</td>\n",
       "      <td>Scarborough</td>\n",
       "      <td>Malvern, Rouge</td>\n",
       "      <td>43.806686</td>\n",
       "      <td>-79.194353</td>\n",
       "    </tr>\n",
       "    <tr>\n",
       "      <th>1</th>\n",
       "      <td>1</td>\n",
       "      <td>M1C</td>\n",
       "      <td>Scarborough</td>\n",
       "      <td>Rouge Hill, Port Union, Highland Creek</td>\n",
       "      <td>43.784535</td>\n",
       "      <td>-79.160497</td>\n",
       "    </tr>\n",
       "    <tr>\n",
       "      <th>2</th>\n",
       "      <td>2</td>\n",
       "      <td>M1E</td>\n",
       "      <td>Scarborough</td>\n",
       "      <td>Guildwood, Morningside, West Hill</td>\n",
       "      <td>43.763573</td>\n",
       "      <td>-79.188711</td>\n",
       "    </tr>\n",
       "    <tr>\n",
       "      <th>3</th>\n",
       "      <td>3</td>\n",
       "      <td>M1G</td>\n",
       "      <td>Scarborough</td>\n",
       "      <td>Woburn</td>\n",
       "      <td>43.770992</td>\n",
       "      <td>-79.216917</td>\n",
       "    </tr>\n",
       "    <tr>\n",
       "      <th>4</th>\n",
       "      <td>4</td>\n",
       "      <td>M1H</td>\n",
       "      <td>Scarborough</td>\n",
       "      <td>Cedarbrae</td>\n",
       "      <td>43.773136</td>\n",
       "      <td>-79.239476</td>\n",
       "    </tr>\n",
       "  </tbody>\n",
       "</table>\n",
       "</div>"
      ],
      "text/plain": [
       "   Unnamed: 0 PostalCode      Borough                            Neighborhood  \\\n",
       "0           0        M1B  Scarborough                          Malvern, Rouge   \n",
       "1           1        M1C  Scarborough  Rouge Hill, Port Union, Highland Creek   \n",
       "2           2        M1E  Scarborough       Guildwood, Morningside, West Hill   \n",
       "3           3        M1G  Scarborough                                  Woburn   \n",
       "4           4        M1H  Scarborough                               Cedarbrae   \n",
       "\n",
       "    Latitude  Longitude  \n",
       "0  43.806686 -79.194353  \n",
       "1  43.784535 -79.160497  \n",
       "2  43.763573 -79.188711  \n",
       "3  43.770992 -79.216917  \n",
       "4  43.773136 -79.239476  "
      ]
     },
     "execution_count": 13,
     "metadata": {},
     "output_type": "execute_result"
    }
   ],
   "source": [
    "df3 = pd.merge(df3, df_geo, on = 'PostalCode')\n",
    "df3.head()"
   ]
  },
  {
   "cell_type": "code",
   "execution_count": 14,
   "metadata": {
    "scrolled": true
   },
   "outputs": [
    {
     "data": {
      "text/plain": [
       "(103, 6)"
      ]
     },
     "execution_count": 14,
     "metadata": {},
     "output_type": "execute_result"
    }
   ],
   "source": [
    "df3.shape"
   ]
  },
  {
   "cell_type": "code",
   "execution_count": 15,
   "metadata": {
    "scrolled": true
   },
   "outputs": [
    {
     "name": "stdout",
     "output_type": "stream",
     "text": [
      "Successfully Saved!\n"
     ]
    }
   ],
   "source": [
    "#Save data as'Capstone_part2.csv'\n",
    "df3.to_csv('Capstone_part2.csv', index=False)\n",
    "print('Successfully Saved!')"
   ]
  },
  {
   "cell_type": "markdown",
   "metadata": {},
   "source": [
    "## Part - 3 ##"
   ]
  },
  {
   "cell_type": "markdown",
   "metadata": {},
   "source": [
    "**Firstly, installing required libraries**"
   ]
  },
  {
   "cell_type": "code",
   "execution_count": 16,
   "metadata": {},
   "outputs": [],
   "source": [
    "import pandas as pd\n",
    "import numpy as np\n",
    "from geopy.geocoders import Nominatim\n",
    "import folium\n",
    "import matplotlib.cm as cm\n",
    "import matplotlib.colors as colors"
   ]
  },
  {
   "cell_type": "markdown",
   "metadata": {},
   "source": [
    "**Secondly, Upload the first dataset**"
   ]
  },
  {
   "cell_type": "code",
   "execution_count": 17,
   "metadata": {
    "scrolled": true
   },
   "outputs": [
    {
     "data": {
      "text/html": [
       "<div>\n",
       "<style scoped>\n",
       "    .dataframe tbody tr th:only-of-type {\n",
       "        vertical-align: middle;\n",
       "    }\n",
       "\n",
       "    .dataframe tbody tr th {\n",
       "        vertical-align: top;\n",
       "    }\n",
       "\n",
       "    .dataframe thead th {\n",
       "        text-align: right;\n",
       "    }\n",
       "</style>\n",
       "<table border=\"1\" class=\"dataframe\">\n",
       "  <thead>\n",
       "    <tr style=\"text-align: right;\">\n",
       "      <th></th>\n",
       "      <th>Unnamed: 0</th>\n",
       "      <th>PostalCode</th>\n",
       "      <th>Borough</th>\n",
       "      <th>Neighborhood</th>\n",
       "      <th>Latitude</th>\n",
       "      <th>Longitude</th>\n",
       "    </tr>\n",
       "  </thead>\n",
       "  <tbody>\n",
       "    <tr>\n",
       "      <th>0</th>\n",
       "      <td>0</td>\n",
       "      <td>M1B</td>\n",
       "      <td>Scarborough</td>\n",
       "      <td>Malvern, Rouge</td>\n",
       "      <td>43.806686</td>\n",
       "      <td>-79.194353</td>\n",
       "    </tr>\n",
       "    <tr>\n",
       "      <th>1</th>\n",
       "      <td>1</td>\n",
       "      <td>M1C</td>\n",
       "      <td>Scarborough</td>\n",
       "      <td>Rouge Hill, Port Union, Highland Creek</td>\n",
       "      <td>43.784535</td>\n",
       "      <td>-79.160497</td>\n",
       "    </tr>\n",
       "    <tr>\n",
       "      <th>2</th>\n",
       "      <td>2</td>\n",
       "      <td>M1E</td>\n",
       "      <td>Scarborough</td>\n",
       "      <td>Guildwood, Morningside, West Hill</td>\n",
       "      <td>43.763573</td>\n",
       "      <td>-79.188711</td>\n",
       "    </tr>\n",
       "    <tr>\n",
       "      <th>3</th>\n",
       "      <td>3</td>\n",
       "      <td>M1G</td>\n",
       "      <td>Scarborough</td>\n",
       "      <td>Woburn</td>\n",
       "      <td>43.770992</td>\n",
       "      <td>-79.216917</td>\n",
       "    </tr>\n",
       "    <tr>\n",
       "      <th>4</th>\n",
       "      <td>4</td>\n",
       "      <td>M1H</td>\n",
       "      <td>Scarborough</td>\n",
       "      <td>Cedarbrae</td>\n",
       "      <td>43.773136</td>\n",
       "      <td>-79.239476</td>\n",
       "    </tr>\n",
       "  </tbody>\n",
       "</table>\n",
       "</div>"
      ],
      "text/plain": [
       "   Unnamed: 0 PostalCode      Borough                            Neighborhood  \\\n",
       "0           0        M1B  Scarborough                          Malvern, Rouge   \n",
       "1           1        M1C  Scarborough  Rouge Hill, Port Union, Highland Creek   \n",
       "2           2        M1E  Scarborough       Guildwood, Morningside, West Hill   \n",
       "3           3        M1G  Scarborough                                  Woburn   \n",
       "4           4        M1H  Scarborough                               Cedarbrae   \n",
       "\n",
       "    Latitude  Longitude  \n",
       "0  43.806686 -79.194353  \n",
       "1  43.784535 -79.160497  \n",
       "2  43.763573 -79.188711  \n",
       "3  43.770992 -79.216917  \n",
       "4  43.773136 -79.239476  "
      ]
     },
     "execution_count": 17,
     "metadata": {},
     "output_type": "execute_result"
    }
   ],
   "source": [
    "#We upload the first dataset where we save it as csv file in part 2\n",
    "df3=pd.read_csv('Capstone_part2.csv')\n",
    "df3.head()"
   ]
  },
  {
   "cell_type": "markdown",
   "metadata": {},
   "source": [
    "**Thirdly, prepare the dataframe in pursuant of instructions**"
   ]
  },
  {
   "cell_type": "code",
   "execution_count": 18,
   "metadata": {},
   "outputs": [
    {
     "data": {
      "text/html": [
       "<div>\n",
       "<style scoped>\n",
       "    .dataframe tbody tr th:only-of-type {\n",
       "        vertical-align: middle;\n",
       "    }\n",
       "\n",
       "    .dataframe tbody tr th {\n",
       "        vertical-align: top;\n",
       "    }\n",
       "\n",
       "    .dataframe thead th {\n",
       "        text-align: right;\n",
       "    }\n",
       "</style>\n",
       "<table border=\"1\" class=\"dataframe\">\n",
       "  <thead>\n",
       "    <tr style=\"text-align: right;\">\n",
       "      <th></th>\n",
       "      <th>Unnamed: 0</th>\n",
       "      <th>PostalCode</th>\n",
       "      <th>Borough</th>\n",
       "      <th>Neighborhood</th>\n",
       "      <th>Latitude</th>\n",
       "      <th>Longitude</th>\n",
       "    </tr>\n",
       "  </thead>\n",
       "  <tbody>\n",
       "    <tr>\n",
       "      <th>0</th>\n",
       "      <td>37</td>\n",
       "      <td>M4E</td>\n",
       "      <td>East Toronto</td>\n",
       "      <td>The Beaches</td>\n",
       "      <td>43.676357</td>\n",
       "      <td>-79.293031</td>\n",
       "    </tr>\n",
       "    <tr>\n",
       "      <th>1</th>\n",
       "      <td>41</td>\n",
       "      <td>M4K</td>\n",
       "      <td>East Toronto</td>\n",
       "      <td>The Danforth West, Riverdale</td>\n",
       "      <td>43.679557</td>\n",
       "      <td>-79.352188</td>\n",
       "    </tr>\n",
       "    <tr>\n",
       "      <th>2</th>\n",
       "      <td>42</td>\n",
       "      <td>M4L</td>\n",
       "      <td>East Toronto</td>\n",
       "      <td>India Bazaar, The Beaches West</td>\n",
       "      <td>43.668999</td>\n",
       "      <td>-79.315572</td>\n",
       "    </tr>\n",
       "    <tr>\n",
       "      <th>3</th>\n",
       "      <td>43</td>\n",
       "      <td>M4M</td>\n",
       "      <td>East Toronto</td>\n",
       "      <td>Studio District</td>\n",
       "      <td>43.659526</td>\n",
       "      <td>-79.340923</td>\n",
       "    </tr>\n",
       "    <tr>\n",
       "      <th>4</th>\n",
       "      <td>44</td>\n",
       "      <td>M4N</td>\n",
       "      <td>Central Toronto</td>\n",
       "      <td>Lawrence Park</td>\n",
       "      <td>43.728020</td>\n",
       "      <td>-79.388790</td>\n",
       "    </tr>\n",
       "  </tbody>\n",
       "</table>\n",
       "</div>"
      ],
      "text/plain": [
       "   Unnamed: 0 PostalCode          Borough                    Neighborhood  \\\n",
       "0          37        M4E     East Toronto                     The Beaches   \n",
       "1          41        M4K     East Toronto    The Danforth West, Riverdale   \n",
       "2          42        M4L     East Toronto  India Bazaar, The Beaches West   \n",
       "3          43        M4M     East Toronto                 Studio District   \n",
       "4          44        M4N  Central Toronto                   Lawrence Park   \n",
       "\n",
       "    Latitude  Longitude  \n",
       "0  43.676357 -79.293031  \n",
       "1  43.679557 -79.352188  \n",
       "2  43.668999 -79.315572  \n",
       "3  43.659526 -79.340923  \n",
       "4  43.728020 -79.388790  "
      ]
     },
     "execution_count": 18,
     "metadata": {},
     "output_type": "execute_result"
    }
   ],
   "source": [
    "#We work with only \"Borough\" which contain the word Toronto \n",
    "df4=df3[df3['Borough'].str.contains('Toronto')]\n",
    "df5=df4.reset_index(drop=True)\n",
    "df5.head()"
   ]
  },
  {
   "cell_type": "code",
   "execution_count": 19,
   "metadata": {
    "scrolled": true
   },
   "outputs": [
    {
     "data": {
      "text/plain": [
       "(39, 6)"
      ]
     },
     "execution_count": 19,
     "metadata": {},
     "output_type": "execute_result"
    }
   ],
   "source": [
    "df5.shape"
   ]
  },
  {
   "cell_type": "markdown",
   "metadata": {},
   "source": [
    "**For clustering the data, we can use the Borough as Label**"
   ]
  },
  {
   "cell_type": "code",
   "execution_count": 20,
   "metadata": {},
   "outputs": [
    {
     "data": {
      "text/plain": [
       "Downtown Toronto    19\n",
       "Central Toronto      9\n",
       "West Toronto         6\n",
       "East Toronto         5\n",
       "Name: Borough, dtype: int64"
      ]
     },
     "execution_count": 20,
     "metadata": {},
     "output_type": "execute_result"
    }
   ],
   "source": [
    "# Learn the different value of Borough \n",
    "df5['Borough'].value_counts()"
   ]
  },
  {
   "cell_type": "code",
   "execution_count": 21,
   "metadata": {},
   "outputs": [
    {
     "data": {
      "text/html": [
       "<div>\n",
       "<style scoped>\n",
       "    .dataframe tbody tr th:only-of-type {\n",
       "        vertical-align: middle;\n",
       "    }\n",
       "\n",
       "    .dataframe tbody tr th {\n",
       "        vertical-align: top;\n",
       "    }\n",
       "\n",
       "    .dataframe thead th {\n",
       "        text-align: right;\n",
       "    }\n",
       "</style>\n",
       "<table border=\"1\" class=\"dataframe\">\n",
       "  <thead>\n",
       "    <tr style=\"text-align: right;\">\n",
       "      <th></th>\n",
       "      <th>Unnamed: 0</th>\n",
       "      <th>PostalCode</th>\n",
       "      <th>Borough</th>\n",
       "      <th>Neighborhood</th>\n",
       "      <th>Latitude</th>\n",
       "      <th>Longitude</th>\n",
       "      <th>Label</th>\n",
       "    </tr>\n",
       "  </thead>\n",
       "  <tbody>\n",
       "    <tr>\n",
       "      <th>0</th>\n",
       "      <td>37</td>\n",
       "      <td>M4E</td>\n",
       "      <td>East Toronto</td>\n",
       "      <td>The Beaches</td>\n",
       "      <td>43.676357</td>\n",
       "      <td>-79.293031</td>\n",
       "      <td>4</td>\n",
       "    </tr>\n",
       "    <tr>\n",
       "      <th>1</th>\n",
       "      <td>41</td>\n",
       "      <td>M4K</td>\n",
       "      <td>East Toronto</td>\n",
       "      <td>The Danforth West, Riverdale</td>\n",
       "      <td>43.679557</td>\n",
       "      <td>-79.352188</td>\n",
       "      <td>4</td>\n",
       "    </tr>\n",
       "    <tr>\n",
       "      <th>2</th>\n",
       "      <td>42</td>\n",
       "      <td>M4L</td>\n",
       "      <td>East Toronto</td>\n",
       "      <td>India Bazaar, The Beaches West</td>\n",
       "      <td>43.668999</td>\n",
       "      <td>-79.315572</td>\n",
       "      <td>4</td>\n",
       "    </tr>\n",
       "    <tr>\n",
       "      <th>3</th>\n",
       "      <td>43</td>\n",
       "      <td>M4M</td>\n",
       "      <td>East Toronto</td>\n",
       "      <td>Studio District</td>\n",
       "      <td>43.659526</td>\n",
       "      <td>-79.340923</td>\n",
       "      <td>4</td>\n",
       "    </tr>\n",
       "    <tr>\n",
       "      <th>4</th>\n",
       "      <td>44</td>\n",
       "      <td>M4N</td>\n",
       "      <td>Central Toronto</td>\n",
       "      <td>Lawrence Park</td>\n",
       "      <td>43.728020</td>\n",
       "      <td>-79.388790</td>\n",
       "      <td>2</td>\n",
       "    </tr>\n",
       "  </tbody>\n",
       "</table>\n",
       "</div>"
      ],
      "text/plain": [
       "   Unnamed: 0 PostalCode          Borough                    Neighborhood  \\\n",
       "0          37        M4E     East Toronto                     The Beaches   \n",
       "1          41        M4K     East Toronto    The Danforth West, Riverdale   \n",
       "2          42        M4L     East Toronto  India Bazaar, The Beaches West   \n",
       "3          43        M4M     East Toronto                 Studio District   \n",
       "4          44        M4N  Central Toronto                   Lawrence Park   \n",
       "\n",
       "    Latitude  Longitude  Label  \n",
       "0  43.676357 -79.293031      4  \n",
       "1  43.679557 -79.352188      4  \n",
       "2  43.668999 -79.315572      4  \n",
       "3  43.659526 -79.340923      4  \n",
       "4  43.728020 -79.388790      2  "
      ]
     },
     "execution_count": 21,
     "metadata": {},
     "output_type": "execute_result"
    }
   ],
   "source": [
    "# Create a new column as Label and get the date from 'Borough' as integer\n",
    "df5['Label']=df5['Borough'].replace(to_replace=['Downtown Toronto','Central Toronto','West Toronto','East Toronto'],value=[1,2,3,4],inplace=False)\n",
    "df5.head()"
   ]
  },
  {
   "cell_type": "markdown",
   "metadata": {},
   "source": [
    "**Fourthly, visualize the data**\n",
    "\n",
    "Learn the coordinates of Toronto"
   ]
  },
  {
   "cell_type": "code",
   "execution_count": 22,
   "metadata": {},
   "outputs": [
    {
     "name": "stdout",
     "output_type": "stream",
     "text": [
      "The geograpical coordinate of Toronto are 43.6534817, -79.3839347.\n"
     ]
    }
   ],
   "source": [
    "address = 'Toronto'\n",
    "geolocator = Nominatim(user_agent=\"toronto_explorer\")\n",
    "location = geolocator.geocode(address)\n",
    "latitude = location.latitude\n",
    "longitude = location.longitude\n",
    "print(f'The geograpical coordinate of Toronto are {latitude}, {longitude}.')"
   ]
  },
  {
   "cell_type": "markdown",
   "metadata": {},
   "source": [
    "**Preparing to create the clustering map of Toronto**"
   ]
  },
  {
   "cell_type": "code",
   "execution_count": 23,
   "metadata": {},
   "outputs": [],
   "source": [
    "#for set the cluster number as label number\n",
    "kclusters=len(df5.Label.unique())\n",
    "\n",
    "# create map\n",
    "map_toronto = folium.Map(location=[latitude, longitude], zoom_start=11)\n",
    "\n",
    "# set color scheme for the clusters\n",
    "x = np.arange(kclusters)\n",
    "ys = [i + x + (i*x)**2 for i in range(kclusters)]\n",
    "colors_array = cm.rainbow(np.linspace(0, 1, len(ys)))\n",
    "rainbow = [colors.rgb2hex(i) for i in colors_array]\n",
    "\n",
    "# add markers to the map\n",
    "markers_colors = []\n",
    "for lat, lon, cluster in zip(df5['Latitude'], df5['Longitude'], df5['Label']):\n",
    "    label = folium.Popup(str(df5['Borough']) + ' Cluster ' + str(cluster), parse_html=True)\n",
    "    folium.CircleMarker(\n",
    "        [lat, lon],\n",
    "        radius=5,\n",
    "        popup=label,\n",
    "        color=rainbow[cluster-1],\n",
    "        fill=True,\n",
    "        fill_color=rainbow[cluster-1],\n",
    "        fill_opacity=0.7).add_to(map_toronto)"
   ]
  },
  {
   "cell_type": "markdown",
   "metadata": {},
   "source": [
    "**Display the neighborhood map of Toronto with 4 clustering**"
   ]
  },
  {
   "cell_type": "code",
   "execution_count": 24,
   "metadata": {
    "scrolled": true
   },
   "outputs": [
    {
     "data": {
      "text/html": [
       "<div style=\"width:100%;\"><div style=\"position:relative;width:100%;height:0;padding-bottom:60%;\"><span style=\"color:#565656\">Make this Notebook Trusted to load map: File -> Trust Notebook</span><iframe src=\"about:blank\" style=\"position:absolute;width:100%;height:100%;left:0;top:0;border:none !important;\" data-html=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 onload=\"this.contentDocument.open();this.contentDocument.write(atob(this.getAttribute('data-html')));this.contentDocument.close();\" allowfullscreen webkitallowfullscreen mozallowfullscreen></iframe></div></div>"
      ],
      "text/plain": [
       "<folium.folium.Map at 0x7f6fe7d63f90>"
      ]
     },
     "execution_count": 24,
     "metadata": {},
     "output_type": "execute_result"
    }
   ],
   "source": [
    "map_toronto"
   ]
  },
  {
   "cell_type": "markdown",
   "metadata": {},
   "source": [
    "## Thank You ##"
   ]
  }
 ],
 "metadata": {
  "kernelspec": {
   "display_name": "Python 3.7 with Spark",
   "language": "python3",
   "name": "python37"
  },
  "language_info": {
   "codemirror_mode": {
    "name": "ipython",
    "version": 3
   },
   "file_extension": ".py",
   "mimetype": "text/x-python",
   "name": "python",
   "nbconvert_exporter": "python",
   "pygments_lexer": "ipython3",
   "version": "3.7.9"
  }
 },
 "nbformat": 4,
 "nbformat_minor": 1
}
